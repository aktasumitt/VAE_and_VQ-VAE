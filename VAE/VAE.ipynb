{
 "cells": [
  {
   "cell_type": "markdown",
   "metadata": {},
   "source": [
    "# VAE (Variational Auto Encoders)"
   ]
  },
  {
   "cell_type": "code",
   "execution_count": 1,
   "metadata": {},
   "outputs": [],
   "source": [
    "import torch\n",
    "import torch.nn as nn\n",
    "from torchvision import transforms,datasets\n",
    "from torch.utils.data import DataLoader,random_split\n",
    "import tqdm\n",
    "import matplotlib.pyplot as plt"
   ]
  },
  {
   "cell_type": "markdown",
   "metadata": {},
   "source": [
    "    Control Devices:"
   ]
  },
  {
   "cell_type": "code",
   "execution_count": 2,
   "metadata": {},
   "outputs": [],
   "source": [
    "devices=(\"cuda\" if torch.cuda.is_available() else \"cpu\")"
   ]
  },
  {
   "cell_type": "markdown",
   "metadata": {},
   "source": [
    "    Constants:"
   ]
  },
  {
   "cell_type": "code",
   "execution_count": 3,
   "metadata": {},
   "outputs": [],
   "source": [
    "Epochs=20\n",
    "Learning_rate=2e-4\n",
    "Num_Embeddings=128\n",
    "Channel_size=3\n",
    "Save_path=\"VAE_model.pth.tar\""
   ]
  },
  {
   "cell_type": "markdown",
   "metadata": {},
   "source": [
    "    Create Transforms, Dataset and Dataloader:"
   ]
  },
  {
   "cell_type": "code",
   "execution_count": 4,
   "metadata": {},
   "outputs": [
    {
     "name": "stdout",
     "output_type": "stream",
     "text": [
      "Downloading http://yann.lecun.com/exdb/mnist/train-images-idx3-ubyte.gz\n",
      "Downloading http://yann.lecun.com/exdb/mnist/train-images-idx3-ubyte.gz to Mnist\\MNIST\\raw\\train-images-idx3-ubyte.gz\n"
     ]
    },
    {
     "name": "stderr",
     "output_type": "stream",
     "text": [
      "100%|██████████| 9912422/9912422 [00:01<00:00, 7843479.33it/s]\n"
     ]
    },
    {
     "name": "stdout",
     "output_type": "stream",
     "text": [
      "Extracting Mnist\\MNIST\\raw\\train-images-idx3-ubyte.gz to Mnist\\MNIST\\raw\n",
      "\n",
      "Downloading http://yann.lecun.com/exdb/mnist/train-labels-idx1-ubyte.gz\n",
      "Downloading http://yann.lecun.com/exdb/mnist/train-labels-idx1-ubyte.gz to Mnist\\MNIST\\raw\\train-labels-idx1-ubyte.gz\n"
     ]
    },
    {
     "name": "stderr",
     "output_type": "stream",
     "text": [
      "100%|██████████| 28881/28881 [00:00<00:00, 2274080.01it/s]"
     ]
    },
    {
     "name": "stdout",
     "output_type": "stream",
     "text": [
      "Extracting Mnist\\MNIST\\raw\\train-labels-idx1-ubyte.gz to Mnist\\MNIST\\raw\n",
      "\n",
      "Downloading http://yann.lecun.com/exdb/mnist/t10k-images-idx3-ubyte.gz\n"
     ]
    },
    {
     "name": "stderr",
     "output_type": "stream",
     "text": [
      "\n"
     ]
    },
    {
     "name": "stdout",
     "output_type": "stream",
     "text": [
      "Downloading http://yann.lecun.com/exdb/mnist/t10k-images-idx3-ubyte.gz to Mnist\\MNIST\\raw\\t10k-images-idx3-ubyte.gz\n"
     ]
    },
    {
     "name": "stderr",
     "output_type": "stream",
     "text": [
      "100%|██████████| 1648877/1648877 [00:00<00:00, 5172186.87it/s]\n"
     ]
    },
    {
     "name": "stdout",
     "output_type": "stream",
     "text": [
      "Extracting Mnist\\MNIST\\raw\\t10k-images-idx3-ubyte.gz to Mnist\\MNIST\\raw\n",
      "\n",
      "Downloading http://yann.lecun.com/exdb/mnist/t10k-labels-idx1-ubyte.gz\n",
      "Downloading http://yann.lecun.com/exdb/mnist/t10k-labels-idx1-ubyte.gz to Mnist\\MNIST\\raw\\t10k-labels-idx1-ubyte.gz\n"
     ]
    },
    {
     "name": "stderr",
     "output_type": "stream",
     "text": [
      "100%|██████████| 4542/4542 [00:00<?, ?it/s]"
     ]
    },
    {
     "name": "stdout",
     "output_type": "stream",
     "text": [
      "Extracting Mnist\\MNIST\\raw\\t10k-labels-idx1-ubyte.gz to Mnist\\MNIST\\raw\n",
      "\n"
     ]
    },
    {
     "name": "stderr",
     "output_type": "stream",
     "text": [
      "\n"
     ]
    }
   ],
   "source": [
    "# Transformer\n",
    "transformer=transforms.Compose([transforms.ToTensor(),\n",
    "                                transforms.Normalize((0.5,),(0.5,))])\n",
    "\n",
    "# Datasets\n",
    "train_dataset=datasets.MNIST(\"Mnist\",train=True,transform=transformer,download=True)\n",
    "valid_dataset,train_dataset=random_split(train_dataset,lengths=[10000,len(train_dataset)-10000])\n",
    "\n",
    "# Dataloaders\n",
    "valid_dataloader=DataLoader(dataset=valid_dataset,batch_size=20,drop_last=True,shuffle=True)\n",
    "train_dataloader=DataLoader(dataset=train_dataset,batch_size=20,drop_last=True,shuffle=True)\n"
   ]
  },
  {
   "cell_type": "markdown",
   "metadata": {},
   "source": [
    "    Create VAE Module:"
   ]
  },
  {
   "cell_type": "code",
   "execution_count": 5,
   "metadata": {},
   "outputs": [],
   "source": [
    "class VAE(nn.Module):\n",
    "    def __init__(self,input_dim,hidden_dim,z_dim):\n",
    "        super().__init__()\n",
    "        \n",
    "        self.encoder=self.encoder_fn(input_dim=input_dim,hidden_dim=hidden_dim)\n",
    "        self.means,self.std=self.latent_space(hidden_dim=hidden_dim,z_dim=z_dim)\n",
    "        self.decoder=self.decoder_fn(hidden_dim=hidden_dim,input_dim=input_dim,z_dim=z_dim)\n",
    "\n",
    "    # Encoder\n",
    "    def encoder_fn(self,input_dim,hidden_dim):\n",
    "        \n",
    "        encoder=nn.Sequential(nn.Linear(input_dim,512),\n",
    "                              nn.ReLU(),\n",
    "                              nn.Linear(512,256),\n",
    "                              nn.ReLU(),\n",
    "                              nn.Linear(256,hidden_dim),\n",
    "                              nn.ReLU())\n",
    "        return encoder\n",
    " \n",
    "    \n",
    "    # Calculate Means, Variances\n",
    "    def latent_space(self,hidden_dim,z_dim):\n",
    "        \n",
    "        means=nn.Linear(hidden_dim,z_dim)\n",
    "        std=nn.Linear(hidden_dim,z_dim)\n",
    "        return means, std\n",
    "  \n",
    "    \n",
    "    # Decoder\n",
    "    def decoder_fn(self,hidden_dim,z_dim,input_dim):\n",
    "        \n",
    "        decoder=nn.Sequential(nn.Linear(z_dim,hidden_dim),\n",
    "                              nn.ReLU(),\n",
    "                              nn.Linear(hidden_dim,256),\n",
    "                              nn.ReLU(),\n",
    "                              nn.Linear(256,512),\n",
    "                              nn.ReLU(),\n",
    "                              nn.Linear(512,input_dim),\n",
    "                              nn.Sigmoid())\n",
    "        \n",
    "        return decoder\n",
    "    \n",
    "    \n",
    "    def forward(self,data):\n",
    "        x=self.encoder(data)\n",
    "        \n",
    "        mean=self.means(x) # Means dim\n",
    "        std=self.std(x)    # Variance\n",
    "        \n",
    "        epsilon=torch.randn_like(std) # Epsilon\n",
    "        \n",
    "        latent_spc=mean+(std*epsilon) # Latent space out for decoder input\n",
    "        \n",
    "        out=self.decoder(latent_spc) # Decoder\n",
    "         \n",
    "        return out,mean,std\n",
    "        \n",
    "    "
   ]
  },
  {
   "cell_type": "markdown",
   "metadata": {},
   "source": [
    "    Create model, optimizer ,loss_fn:"
   ]
  },
  {
   "cell_type": "code",
   "execution_count": 6,
   "metadata": {},
   "outputs": [],
   "source": [
    "# Model\n",
    "model=VAE(input_dim=28*28,hidden_dim=128,z_dim=16)\n",
    "model.to(devices)\n",
    "\n",
    "# Optimizer\n",
    "optimizer=torch.optim.Adam(params=model.parameters(),lr=3e-4,betas=(0.5,0.999))\n",
    "\n",
    "# Loss\n",
    "loss_fn=nn.BCELoss(reduction=\"sum\")"
   ]
  },
  {
   "cell_type": "markdown",
   "metadata": {},
   "source": [
    "    Model save:\n",
    "    "
   ]
  },
  {
   "cell_type": "code",
   "execution_count": 7,
   "metadata": {},
   "outputs": [],
   "source": [
    "def Save_model(model,optimizer,epoch,path):\n",
    "    checkpoints={\"Epochs\":epoch,\n",
    "                 \"Optimizer_state\":optimizer.state_dict,\n",
    "                 \"Model_states\": model.state_dict}\n",
    "    print(\"Model is saving...\")\n",
    "    torch.save(checkpoints,f=path)"
   ]
  },
  {
   "cell_type": "markdown",
   "metadata": {},
   "source": [
    "    Training:"
   ]
  },
  {
   "cell_type": "code",
   "execution_count": 8,
   "metadata": {},
   "outputs": [],
   "source": [
    "def Training(epochs,train_dataloader,optimizer,model,loss_fn,Save_path,save_model_fn):\n",
    "    for epoch in range(epochs):\n",
    "        \n",
    "        prograss_bar=tqdm.tqdm(range(len(train_dataloader)),\"Train proccess\")\n",
    "        \n",
    "        for batch,(img,_label_) in enumerate(train_dataloader):\n",
    "            \n",
    "            img=img.reshape(img.shape[0],-1).to(devices)\n",
    "            \n",
    "            optimizer.zero_grad()\n",
    "            out,mean,std=model(img)\n",
    "            \n",
    "            # Loss\n",
    "            loss1=loss_fn(out,img)\n",
    "            \n",
    "            # KL-divergences\n",
    "            kl_div=-torch.sum(1+torch.log(torch.pow(std,2))-torch.pow(mean,2)-torch.pow(std,2))\n",
    "            \n",
    "            # Total loss\n",
    "            loss=loss1+kl_div\n",
    "            loss.backward()\n",
    "            optimizer.step()\n",
    "            \n",
    "            prograss_bar.update(1)   \n",
    "        \n",
    "        prograss_bar.set_postfix({\"EPOCH\":epoch+1,\"step\":batch+1,\"LOSS\": (loss.item()/(batch+1))})\n",
    "        prograss_bar.close()\n",
    "        \n",
    "        save_model_fn(model,optimizer,epoch+1,Save_path)\n",
    "        "
   ]
  },
  {
   "cell_type": "code",
   "execution_count": 10,
   "metadata": {},
   "outputs": [
    {
     "name": "stderr",
     "output_type": "stream",
     "text": [
      "Train proccess: 100%|██████████| 2500/2500 [00:30<00:00, 80.91it/s, EPOCH=1, step=2500, LOSS=-425]\n"
     ]
    },
    {
     "name": "stdout",
     "output_type": "stream",
     "text": [
      "Model is saving...\n"
     ]
    },
    {
     "name": "stderr",
     "output_type": "stream",
     "text": [
      "Train proccess: 100%|██████████| 2500/2500 [00:30<00:00, 82.89it/s, EPOCH=2, step=2500, LOSS=-446]\n"
     ]
    },
    {
     "name": "stdout",
     "output_type": "stream",
     "text": [
      "Model is saving...\n"
     ]
    },
    {
     "name": "stderr",
     "output_type": "stream",
     "text": [
      "Train proccess: 100%|██████████| 2500/2500 [00:32<00:00, 77.80it/s, EPOCH=3, step=2500, LOSS=-459]\n"
     ]
    },
    {
     "name": "stdout",
     "output_type": "stream",
     "text": [
      "Model is saving...\n"
     ]
    },
    {
     "name": "stderr",
     "output_type": "stream",
     "text": [
      "Train proccess: 100%|██████████| 2500/2500 [00:30<00:00, 83.05it/s, EPOCH=4, step=2500, LOSS=-479]\n"
     ]
    },
    {
     "name": "stdout",
     "output_type": "stream",
     "text": [
      "Model is saving...\n"
     ]
    },
    {
     "name": "stderr",
     "output_type": "stream",
     "text": [
      "Train proccess: 100%|██████████| 2500/2500 [00:31<00:00, 79.45it/s, EPOCH=5, step=2500, LOSS=-473]\n"
     ]
    },
    {
     "name": "stdout",
     "output_type": "stream",
     "text": [
      "Model is saving...\n"
     ]
    },
    {
     "name": "stderr",
     "output_type": "stream",
     "text": [
      "Train proccess: 100%|██████████| 2500/2500 [00:27<00:00, 89.91it/s, EPOCH=6, step=2500, LOSS=-480]\n"
     ]
    },
    {
     "name": "stdout",
     "output_type": "stream",
     "text": [
      "Model is saving...\n"
     ]
    },
    {
     "name": "stderr",
     "output_type": "stream",
     "text": [
      "Train proccess: 100%|██████████| 2500/2500 [00:27<00:00, 91.93it/s, EPOCH=7, step=2500, LOSS=-473]\n"
     ]
    },
    {
     "name": "stdout",
     "output_type": "stream",
     "text": [
      "Model is saving...\n"
     ]
    },
    {
     "name": "stderr",
     "output_type": "stream",
     "text": [
      "Train proccess: 100%|██████████| 2500/2500 [00:26<00:00, 92.91it/s, EPOCH=8, step=2500, LOSS=-471]\n"
     ]
    },
    {
     "name": "stdout",
     "output_type": "stream",
     "text": [
      "Model is saving...\n"
     ]
    },
    {
     "name": "stderr",
     "output_type": "stream",
     "text": [
      "Train proccess: 100%|██████████| 2500/2500 [00:27<00:00, 89.80it/s, EPOCH=9, step=2500, LOSS=-476]\n"
     ]
    },
    {
     "name": "stdout",
     "output_type": "stream",
     "text": [
      "Model is saving...\n"
     ]
    },
    {
     "name": "stderr",
     "output_type": "stream",
     "text": [
      "Train proccess: 100%|██████████| 2500/2500 [00:30<00:00, 81.30it/s, EPOCH=10, step=2500, LOSS=-482]\n"
     ]
    },
    {
     "name": "stdout",
     "output_type": "stream",
     "text": [
      "Model is saving...\n"
     ]
    },
    {
     "name": "stderr",
     "output_type": "stream",
     "text": [
      "Train proccess: 100%|██████████| 2500/2500 [00:29<00:00, 84.93it/s, EPOCH=11, step=2500, LOSS=-464]\n"
     ]
    },
    {
     "name": "stdout",
     "output_type": "stream",
     "text": [
      "Model is saving...\n"
     ]
    },
    {
     "name": "stderr",
     "output_type": "stream",
     "text": [
      "Train proccess: 100%|██████████| 2500/2500 [00:33<00:00, 74.81it/s, EPOCH=12, step=2500, LOSS=-478]\n"
     ]
    },
    {
     "name": "stdout",
     "output_type": "stream",
     "text": [
      "Model is saving...\n"
     ]
    },
    {
     "name": "stderr",
     "output_type": "stream",
     "text": [
      "Train proccess: 100%|██████████| 2500/2500 [00:28<00:00, 88.32it/s, EPOCH=13, step=2500, LOSS=-475]\n"
     ]
    },
    {
     "name": "stdout",
     "output_type": "stream",
     "text": [
      "Model is saving...\n"
     ]
    },
    {
     "name": "stderr",
     "output_type": "stream",
     "text": [
      "Train proccess: 100%|██████████| 2500/2500 [00:26<00:00, 94.25it/s, EPOCH=14, step=2500, LOSS=-460]\n"
     ]
    },
    {
     "name": "stdout",
     "output_type": "stream",
     "text": [
      "Model is saving...\n"
     ]
    },
    {
     "name": "stderr",
     "output_type": "stream",
     "text": [
      "Train proccess: 100%|██████████| 2500/2500 [00:30<00:00, 82.00it/s, EPOCH=15, step=2500, LOSS=-497]\n"
     ]
    },
    {
     "name": "stdout",
     "output_type": "stream",
     "text": [
      "Model is saving...\n"
     ]
    },
    {
     "name": "stderr",
     "output_type": "stream",
     "text": [
      "Train proccess: 100%|██████████| 2500/2500 [00:29<00:00, 85.85it/s, EPOCH=16, step=2500, LOSS=-475]\n"
     ]
    },
    {
     "name": "stdout",
     "output_type": "stream",
     "text": [
      "Model is saving...\n"
     ]
    },
    {
     "name": "stderr",
     "output_type": "stream",
     "text": [
      "Train proccess: 100%|██████████| 2500/2500 [00:32<00:00, 75.94it/s, EPOCH=17, step=2500, LOSS=-471]\n"
     ]
    },
    {
     "name": "stdout",
     "output_type": "stream",
     "text": [
      "Model is saving...\n"
     ]
    },
    {
     "name": "stderr",
     "output_type": "stream",
     "text": [
      "Train proccess: 100%|██████████| 2500/2500 [00:32<00:00, 76.54it/s, EPOCH=18, step=2500, LOSS=-483]\n"
     ]
    },
    {
     "name": "stdout",
     "output_type": "stream",
     "text": [
      "Model is saving...\n"
     ]
    },
    {
     "name": "stderr",
     "output_type": "stream",
     "text": [
      "Train proccess: 100%|██████████| 2500/2500 [00:32<00:00, 77.36it/s, EPOCH=19, step=2500, LOSS=-482]\n"
     ]
    },
    {
     "name": "stdout",
     "output_type": "stream",
     "text": [
      "Model is saving...\n"
     ]
    },
    {
     "name": "stderr",
     "output_type": "stream",
     "text": [
      "Train proccess: 100%|██████████| 2500/2500 [00:30<00:00, 82.47it/s, EPOCH=20, step=2500, LOSS=-499]\n"
     ]
    },
    {
     "name": "stdout",
     "output_type": "stream",
     "text": [
      "Model is saving...\n"
     ]
    }
   ],
   "source": [
    "Training(epochs=Epochs,train_dataloader=train_dataloader,optimizer=optimizer,model=model,loss_fn=loss_fn,Save_path=Save_path,save_model_fn=Save_model)"
   ]
  },
  {
   "cell_type": "markdown",
   "metadata": {},
   "source": [
    "    Visualize Images:"
   ]
  },
  {
   "cell_type": "code",
   "execution_count": 11,
   "metadata": {},
   "outputs": [],
   "source": [
    "def Visualize_Test(Test_dataloader,model):\n",
    "    with torch.no_grad():\n",
    "        for batch,(img_test,_) in enumerate(Test_dataloader):\n",
    "            img_test=img_test.to(devices)\n",
    "            \n",
    "            out,_mean_,_std_=model(img_test.reshape(img_test.shape[0],-1))\n",
    "            \n",
    "            out_img=out.reshape(-1,28,28)\n",
    "            \n",
    "            if batch==3:\n",
    "                break\n",
    "    for i in range(20):\n",
    "        plt.subplot(4,5,i+1)\n",
    "        plt.imshow(out_img[i].cpu().detach())\n",
    "    \n",
    "    plt.show()\n"
   ]
  },
  {
   "cell_type": "code",
   "execution_count": 12,
   "metadata": {},
   "outputs": [
    {
     "data": {
      "image/png": "[encoded data removed]",
      "text/plain": [
       "<Figure size 640x480 with 20 Axes>"
      ]
     },
     "metadata": {},
     "output_type": "display_data"
    }
   ],
   "source": [
    "Visualize_Test(Test_dataloader=train_dataloader,model=model)"
   ]
  }
 ],
 "metadata": {
  "kernelspec": {
   "display_name": "Python 3",
   "language": "python",
   "name": "python3"
  },
  "language_info": {
   "codemirror_mode": {
    "name": "ipython",
    "version": 3
   },
   "file_extension": ".py",
   "mimetype": "text/x-python",
   "name": "python",
   "nbconvert_exporter": "python",
   "pygments_lexer": "ipython3",
   "version": "3.11.4"
  }
 },
 "nbformat": 4,
 "nbformat_minor": 2
}
